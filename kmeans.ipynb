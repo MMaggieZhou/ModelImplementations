{
  "nbformat": 4,
  "nbformat_minor": 0,
  "metadata": {
    "colab": {
      "provenance": [],
      "authorship_tag": "ABX9TyPaTNFhUqWZdYUiu0XZKuy0",
      "include_colab_link": true
    },
    "kernelspec": {
      "name": "python3",
      "display_name": "Python 3"
    },
    "language_info": {
      "name": "python"
    }
  },
  "cells": [
    {
      "cell_type": "markdown",
      "metadata": {
        "id": "view-in-github",
        "colab_type": "text"
      },
      "source": [
        "<a href=\"https://colab.research.google.com/github/MMaggieZhou/ModelImplementations/blob/main/kmeans.ipynb\" target=\"_parent\"><img src=\"https://colab.research.google.com/assets/colab-badge.svg\" alt=\"Open In Colab\"/></a>"
      ]
    },
    {
      "cell_type": "markdown",
      "source": [
        "K-means"
      ],
      "metadata": {
        "id": "YOJSzQ7mWiiL"
      }
    },
    {
      "cell_type": "code",
      "source": [
        "# prompt: fetch a classic dataset for k-means\n",
        "\n",
        "from sklearn.datasets import load_iris\n",
        "X, y = load_iris(return_X_y=True)"
      ],
      "metadata": {
        "id": "sCGiReSlWmWi"
      },
      "execution_count": 45,
      "outputs": []
    },
    {
      "cell_type": "code",
      "source": [
        "from sklearn.preprocessing import StandardScaler\n",
        "scaler = StandardScaler()\n",
        "X = scaler.fit_transform(X)"
      ],
      "metadata": {
        "id": "4K_vNvhaayy2"
      },
      "execution_count": 46,
      "outputs": []
    },
    {
      "cell_type": "code",
      "source": [
        "# prompt: pick k random points from X with given seed\n",
        "\n",
        "import numpy as np\n",
        "\n",
        "def pick_random_points(X, k, seed):\n",
        "  np.random.seed(seed)\n",
        "\n",
        "  random_indices = np.random.choice(X.shape[0], k, replace=False)\n",
        "  random_points = X[random_indices]\n",
        "\n",
        "  return random_points"
      ],
      "metadata": {
        "id": "DKDjs-myXAKc"
      },
      "execution_count": 47,
      "outputs": []
    },
    {
      "cell_type": "code",
      "source": [
        "def euclidean_distance(x1, x2):\n",
        "  return np.sqrt(np.sum((x1 - x2)**2))\n",
        ""
      ],
      "metadata": {
        "id": "gAd4DMKAYj-x"
      },
      "execution_count": 7,
      "outputs": []
    },
    {
      "cell_type": "code",
      "source": [
        "# prompt: assign points X to cluster based on distance to centroids\n",
        "\n",
        "def assign_to_cluster(X, centroids):\n",
        "  clusters = np.zeros(X.shape[0], dtype=int)\n",
        "  for i, x in enumerate(X):\n",
        "    distances = [euclidean_distance(x, centroid) for centroid in centroids]\n",
        "    clusters[i] = np.argmin(distances)\n",
        "  return clusters\n",
        "\n",
        "# Example usage (assuming centroids are already defined, e.g., using pick_random_points)\n",
        "# centroids = pick_random_points(X, k=3, seed=42)\n",
        "# assigned_clusters = assign_to_cluster(X, centroids)\n",
        "# print(assigned_clusters)"
      ],
      "metadata": {
        "id": "O88j9bdWZf1M"
      },
      "execution_count": 48,
      "outputs": []
    },
    {
      "cell_type": "code",
      "source": [
        "def calculate_loss(X, clusters, centroids):\n",
        "  loss = 0\n",
        "  for i, x in enumerate(X):\n",
        "    loss += euclidean_distance(x, centroids[clusters[i]])\n",
        "  return loss"
      ],
      "metadata": {
        "id": "migst8PvaRIA"
      },
      "execution_count": 55,
      "outputs": []
    },
    {
      "cell_type": "code",
      "source": [
        "# prompt: recalculate centroids\n",
        "\n",
        "def calculate_centroids(X, clusters, k):\n",
        "  new_centroids = np.zeros((k, X.shape[1]))\n",
        "  for i in range(k):\n",
        "    points_in_cluster = X[clusters == i]\n",
        "    if len(points_in_cluster) > 0: # Handle empty clusters\n",
        "        new_centroids[i] = np.mean(points_in_cluster, axis=0)\n",
        "  return new_centroids"
      ],
      "metadata": {
        "id": "dOJFApOJZzUb"
      },
      "execution_count": 56,
      "outputs": []
    },
    {
      "cell_type": "code",
      "source": [
        "def kmeans(X, k, seed, iter):\n",
        "  centroids = pick_random_points(X, k, seed)\n",
        "  print('Initial centroids ', centroids)\n",
        "  prev_loss = None\n",
        "  i = 0\n",
        "  while i < iter:\n",
        "    clusters = assign_to_cluster(X, centroids)\n",
        "    centroids = calculate_centroids(X, clusters, k)\n",
        "    loss = calculate_loss(X, clusters, centroids)\n",
        "    i+=1\n",
        "    if i%10 == 0:\n",
        "      print(f\"Iteration {i}: Loss = {loss}\")\n",
        "  return centroids, clusters"
      ],
      "metadata": {
        "id": "HJvCH2x8bOHR"
      },
      "execution_count": 61,
      "outputs": []
    },
    {
      "cell_type": "code",
      "source": [
        "kmeans(X, 4, 42, 100)"
      ],
      "metadata": {
        "colab": {
          "base_uri": "https://localhost:8080/"
        },
        "id": "AuuJX4N_boCN",
        "outputId": "7457d4b5-296d-4f60-9111-443e6d044bee"
      },
      "execution_count": 62,
      "outputs": [
        {
          "output_type": "stream",
          "name": "stdout",
          "text": [
            "Initial centroids  [[ 3.10997534e-01 -5.92373012e-01  5.35408562e-01  8.77547895e-04]\n",
            " [-1.73673948e-01  1.70959465e+00 -1.16971425e+00 -1.18381211e+00]\n",
            " [ 2.24968346e+00 -1.05276654e+00  1.78583195e+00  1.44883158e+00]\n",
            " [ 1.89829664e-01 -3.62176246e-01  4.21733708e-01  3.95774101e-01]]\n",
            "Iteration 10: Loss = 116.77237151277747\n",
            "Iteration 20: Loss = 116.77237151277747\n",
            "Iteration 30: Loss = 116.77237151277747\n",
            "Iteration 40: Loss = 116.77237151277747\n",
            "Iteration 50: Loss = 116.77237151277747\n",
            "Iteration 60: Loss = 116.77237151277747\n",
            "Iteration 70: Loss = 116.77237151277747\n",
            "Iteration 80: Loss = 116.77237151277747\n",
            "Iteration 90: Loss = 116.77237151277747\n",
            "Iteration 100: Loss = 116.77237151277747\n"
          ]
        },
        {
          "output_type": "execute_result",
          "data": {
            "text/plain": [
              "(array([[-0.40591237, -1.35010403,  0.0404493 , -0.03751517],\n",
              "        [-1.00206653,  0.90625492, -1.30310821, -1.25634413],\n",
              "        [ 1.40150837,  0.23797961,  1.17888943,  1.24668215],\n",
              "        [ 0.40001883, -0.38096782,  0.6096452 ,  0.56232911]]),\n",
              " array([1, 1, 1, 1, 1, 1, 1, 1, 1, 1, 1, 1, 1, 1, 1, 1, 1, 1, 1, 1, 1, 1,\n",
              "        1, 1, 1, 1, 1, 1, 1, 1, 1, 1, 1, 1, 1, 1, 1, 1, 1, 1, 1, 0, 1, 1,\n",
              "        1, 1, 1, 1, 1, 1, 2, 3, 3, 0, 3, 3, 3, 0, 3, 0, 0, 3, 0, 3, 0, 3,\n",
              "        3, 0, 0, 0, 3, 3, 3, 3, 3, 3, 3, 3, 3, 0, 0, 0, 0, 3, 3, 3, 3, 0,\n",
              "        3, 0, 0, 3, 0, 0, 0, 3, 3, 3, 0, 0, 2, 3, 2, 3, 2, 2, 0, 2, 3, 2,\n",
              "        2, 3, 2, 3, 3, 2, 3, 2, 2, 0, 2, 3, 2, 3, 2, 2, 3, 3, 3, 2, 2, 2,\n",
              "        3, 3, 3, 2, 2, 3, 3, 2, 2, 2, 3, 2, 2, 2, 3, 3, 2, 3]))"
            ]
          },
          "metadata": {},
          "execution_count": 62
        }
      ]
    },
    {
      "cell_type": "code",
      "source": [
        "kmeans(X, 8, 42, 20)"
      ],
      "metadata": {
        "colab": {
          "base_uri": "https://localhost:8080/"
        },
        "id": "OIfT2bEEjIe4",
        "outputId": "93560d15-18b6-4e17-8c4f-508cfab472aa"
      },
      "execution_count": 64,
      "outputs": [
        {
          "output_type": "stream",
          "name": "stdout",
          "text": [
            "Initial centroids  [[ 3.10997534e-01 -5.92373012e-01  5.35408562e-01  8.77547895e-04]\n",
            " [-1.73673948e-01  1.70959465e+00 -1.16971425e+00 -1.18381211e+00]\n",
            " [ 2.24968346e+00 -1.05276654e+00  1.78583195e+00  1.44883158e+00]\n",
            " [ 1.89829664e-01 -3.62176246e-01  4.21733708e-01  3.95774101e-01]\n",
            " [ 1.15917263e+00 -5.92373012e-01  5.92245988e-01  2.64141916e-01]\n",
            " [-5.37177559e-01  7.88807586e-01 -1.28338910e+00 -1.05217993e+00]\n",
            " [-2.94841818e-01 -3.62176246e-01 -8.98031345e-02  1.32509732e-01]\n",
            " [ 1.28034050e+00  9.82172869e-02  7.62758269e-01  1.44883158e+00]]\n",
            "Iteration 10: Loss = 91.02543313689647\n",
            "Iteration 20: Loss = 91.02543313689647\n"
          ]
        },
        {
          "output_type": "execute_result",
          "data": {
            "text/plain": [
              "(array([[ 0.40523921, -1.5387375 ,  0.65539869,  0.45427729],\n",
              "        [-0.57445998,  1.95749886, -1.27027277, -1.20406322],\n",
              "        [ 2.0881263 , -0.47727463,  1.53006353,  1.14168981],\n",
              "        [ 0.03137937, -0.32676136,  0.46326875,  0.4818413 ],\n",
              "        [ 0.86726821, -0.21568739,  0.69817028,  0.57527253],\n",
              "        [-1.15648001,  0.52663905, -1.31496545, -1.27522335],\n",
              "        [-0.59102995, -1.32132944, -0.04243861, -0.10150304],\n",
              "        [ 1.1834062 ,  0.46653211,  1.1066247 ,  1.36327066]]),\n",
              " array([5, 5, 5, 5, 5, 1, 5, 5, 5, 5, 1, 5, 5, 5, 1, 1, 1, 5, 1, 1, 5, 1,\n",
              "        5, 5, 5, 5, 5, 5, 5, 5, 5, 5, 1, 1, 5, 5, 5, 5, 5, 5, 5, 6, 5, 5,\n",
              "        1, 5, 1, 5, 1, 5, 4, 4, 4, 6, 4, 3, 4, 6, 4, 6, 6, 3, 0, 3, 3, 4,\n",
              "        3, 6, 0, 6, 3, 3, 0, 3, 4, 4, 4, 4, 3, 6, 6, 6, 6, 3, 3, 3, 4, 0,\n",
              "        3, 6, 6, 3, 6, 6, 6, 3, 3, 3, 6, 3, 7, 3, 7, 4, 7, 2, 6, 2, 0, 7,\n",
              "        7, 4, 7, 0, 3, 7, 4, 7, 2, 0, 7, 3, 2, 4, 7, 7, 3, 3, 4, 4, 2, 7,\n",
              "        4, 4, 0, 2, 7, 4, 3, 7, 7, 7, 3, 7, 7, 7, 0, 4, 7, 3]))"
            ]
          },
          "metadata": {},
          "execution_count": 64
        }
      ]
    },
    {
      "cell_type": "code",
      "source": [
        "kmeans(X, 8, 0, 20)"
      ],
      "metadata": {
        "colab": {
          "base_uri": "https://localhost:8080/"
        },
        "id": "P-vOQIwWjT1w",
        "outputId": "f9b14f7b-154b-4594-b37e-3fb0e2bb483a"
      },
      "execution_count": 65,
      "outputs": [
        {
          "output_type": "stream",
          "name": "stdout",
          "text": [
            "Initial centroids  [[-0.05250608 -0.59237301  0.76275827  1.58046376]\n",
            " [ 0.18982966 -1.97355361  0.13754657 -0.26238682]\n",
            " [-0.41600969  2.63038172 -1.34022653 -1.3154443 ]\n",
            " [ 1.76501198 -0.36217625  1.44480739  0.79067065]\n",
            " [-1.02184904  0.78880759 -1.2833891  -1.3154443 ]\n",
            " [ 0.55333328  0.55861082  1.27429511  1.71209594]\n",
            " [-1.02184904  1.01900435 -1.39706395 -1.18381211]\n",
            " [ 1.03800476  0.09821729  0.53540856  0.3957741 ]]\n",
            "Iteration 10: Loss = 87.11879680215618\n",
            "Iteration 20: Loss = 87.11879680215618\n"
          ]
        },
        {
          "output_type": "execute_result",
          "data": {
            "text/plain": [
              "(array([[ 0.34886249, -0.85134437,  0.82670037,  0.88939479],\n",
              "        [-0.35542575, -1.37713471,  0.11171138,  0.00686083],\n",
              "        [-0.3813903 ,  2.26864394, -1.29962836, -1.20261671],\n",
              "        [ 1.92656914, -0.31102141,  1.42586158,  1.03930922],\n",
              "        [-1.3996077 , -0.05073356, -1.34022653, -1.32318736],\n",
              "        [ 1.13897798,  0.50745598,  1.09115229,  1.40495418],\n",
              "        [-0.93330329,  1.06327296, -1.2833891 , -1.22431432],\n",
              "        [ 0.4321654 , -0.14513358,  0.48831469,  0.39201318]]),\n",
              " array([6, 4, 4, 4, 6, 2, 6, 6, 4, 4, 6, 6, 4, 4, 2, 2, 2, 6, 2, 6, 6, 6,\n",
              "        6, 6, 6, 4, 6, 6, 6, 4, 4, 6, 2, 2, 4, 4, 6, 6, 4, 6, 6, 4, 4, 6,\n",
              "        6, 4, 6, 4, 6, 6, 7, 7, 7, 1, 7, 7, 7, 1, 7, 1, 1, 7, 1, 7, 7, 7,\n",
              "        7, 1, 1, 1, 7, 7, 0, 7, 7, 7, 7, 7, 7, 1, 1, 1, 1, 0, 7, 7, 7, 1,\n",
              "        7, 1, 1, 7, 1, 1, 1, 7, 7, 7, 1, 1, 5, 0, 3, 0, 5, 3, 1, 3, 0, 5,\n",
              "        5, 0, 5, 0, 0, 5, 7, 5, 3, 1, 5, 0, 3, 0, 5, 3, 0, 7, 0, 3, 3, 5,\n",
              "        0, 7, 0, 3, 5, 7, 7, 5, 5, 5, 0, 5, 5, 5, 0, 7, 5, 7]))"
            ]
          },
          "metadata": {},
          "execution_count": 65
        }
      ]
    },
    {
      "cell_type": "code",
      "source": [
        "kmeans(X, 4, 0, 100)"
      ],
      "metadata": {
        "colab": {
          "base_uri": "https://localhost:8080/"
        },
        "id": "ExWEaSzdithR",
        "outputId": "955f633c-ea2e-4694-b247-8eee1bda1962"
      },
      "execution_count": 63,
      "outputs": [
        {
          "output_type": "stream",
          "name": "stdout",
          "text": [
            "Initial centroids  [[-0.05250608 -0.59237301  0.76275827  1.58046376]\n",
            " [ 0.18982966 -1.97355361  0.13754657 -0.26238682]\n",
            " [-0.41600969  2.63038172 -1.34022653 -1.3154443 ]\n",
            " [ 1.76501198 -0.36217625  1.44480739  0.79067065]]\n",
            "Iteration 10: Loss = 116.50705247201387\n",
            "Iteration 20: Loss = 116.50705247201387\n",
            "Iteration 30: Loss = 116.50705247201387\n",
            "Iteration 40: Loss = 116.50705247201387\n",
            "Iteration 50: Loss = 116.50705247201387\n",
            "Iteration 60: Loss = 116.50705247201387\n",
            "Iteration 70: Loss = 116.50705247201387\n",
            "Iteration 80: Loss = 116.50705247201387\n",
            "Iteration 90: Loss = 116.50705247201387\n",
            "Iteration 100: Loss = 116.50705247201387\n"
          ]
        },
        {
          "output_type": "execute_result",
          "data": {
            "text/plain": [
              "(array([[ 0.3162657 , -0.42222758,  0.56135608,  0.52454472],\n",
              "        [-0.42151732, -1.42945216,  0.03937284, -0.05297198],\n",
              "        [-1.00206653,  0.90625492, -1.30310821, -1.25634413],\n",
              "        [ 1.3280733 ,  0.19587652,  1.12617333,  1.16961179]]),\n",
              " array([2, 2, 2, 2, 2, 2, 2, 2, 2, 2, 2, 2, 2, 2, 2, 2, 2, 2, 2, 2, 2, 2,\n",
              "        2, 2, 2, 2, 2, 2, 2, 2, 2, 2, 2, 2, 2, 2, 2, 2, 2, 2, 2, 1, 2, 2,\n",
              "        2, 2, 2, 2, 2, 2, 3, 0, 3, 1, 0, 0, 0, 1, 0, 1, 1, 0, 1, 0, 0, 0,\n",
              "        0, 1, 1, 1, 0, 0, 0, 0, 0, 0, 0, 3, 0, 1, 1, 1, 1, 0, 0, 0, 0, 1,\n",
              "        0, 1, 1, 0, 1, 1, 1, 0, 0, 0, 1, 0, 3, 0, 3, 0, 3, 3, 1, 3, 0, 3,\n",
              "        3, 0, 3, 0, 0, 3, 3, 3, 3, 1, 3, 0, 3, 0, 3, 3, 0, 0, 0, 3, 3, 3,\n",
              "        0, 0, 0, 3, 3, 3, 0, 3, 3, 3, 0, 3, 3, 3, 0, 3, 3, 0]))"
            ]
          },
          "metadata": {},
          "execution_count": 63
        }
      ]
    },
    {
      "cell_type": "code",
      "metadata": {
        "colab": {
          "base_uri": "https://localhost:8080/"
        },
        "id": "a2bbe9f8",
        "outputId": "47650b4a-4237-414d-ba08-efed840ecd8d"
      },
      "source": [
        "# Calculate inertia for a range of k values\n",
        "inertia_values = []\n",
        "k_range = range(1, 11) # You can adjust this range\n",
        "\n",
        "for k in k_range:\n",
        "  # Run kmeans for each k\n",
        "  centroids, clusters = kmeans(X, k, seed=42, iter=100)\n",
        "  # Calculate the loss (inertia) for the current clustering\n",
        "  loss = calculate_loss(X, clusters, centroids)\n",
        "  inertia_values.append(loss)"
      ],
      "execution_count": 66,
      "outputs": [
        {
          "output_type": "stream",
          "name": "stdout",
          "text": [
            "Initial centroids  [[ 0.31099753 -0.59237301  0.53540856  0.00087755]]\n",
            "Iteration 10: Loss = 279.7583158081686\n",
            "Iteration 20: Loss = 279.7583158081686\n",
            "Iteration 30: Loss = 279.7583158081686\n",
            "Iteration 40: Loss = 279.7583158081686\n",
            "Iteration 50: Loss = 279.7583158081686\n",
            "Iteration 60: Loss = 279.7583158081686\n",
            "Iteration 70: Loss = 279.7583158081686\n",
            "Iteration 80: Loss = 279.7583158081686\n",
            "Iteration 90: Loss = 279.7583158081686\n",
            "Iteration 100: Loss = 279.7583158081686\n",
            "Initial centroids  [[ 3.10997534e-01 -5.92373012e-01  5.35408562e-01  8.77547895e-04]\n",
            " [-1.73673948e-01  1.70959465e+00 -1.16971425e+00 -1.18381211e+00]]\n",
            "Iteration 10: Loss = 159.01867691618463\n",
            "Iteration 20: Loss = 159.01867691618463\n",
            "Iteration 30: Loss = 159.01867691618463\n",
            "Iteration 40: Loss = 159.01867691618463\n",
            "Iteration 50: Loss = 159.01867691618463\n",
            "Iteration 60: Loss = 159.01867691618463\n",
            "Iteration 70: Loss = 159.01867691618463\n",
            "Iteration 80: Loss = 159.01867691618463\n",
            "Iteration 90: Loss = 159.01867691618463\n",
            "Iteration 100: Loss = 159.01867691618463\n",
            "Initial centroids  [[ 3.10997534e-01 -5.92373012e-01  5.35408562e-01  8.77547895e-04]\n",
            " [-1.73673948e-01  1.70959465e+00 -1.16971425e+00 -1.18381211e+00]\n",
            " [ 2.24968346e+00 -1.05276654e+00  1.78583195e+00  1.44883158e+00]]\n",
            "Iteration 10: Loss = 129.31489299173603\n",
            "Iteration 20: Loss = 129.31489299173603\n",
            "Iteration 30: Loss = 129.31489299173603\n",
            "Iteration 40: Loss = 129.31489299173603\n",
            "Iteration 50: Loss = 129.31489299173603\n",
            "Iteration 60: Loss = 129.31489299173603\n",
            "Iteration 70: Loss = 129.31489299173603\n",
            "Iteration 80: Loss = 129.31489299173603\n",
            "Iteration 90: Loss = 129.31489299173603\n",
            "Iteration 100: Loss = 129.31489299173603\n",
            "Initial centroids  [[ 3.10997534e-01 -5.92373012e-01  5.35408562e-01  8.77547895e-04]\n",
            " [-1.73673948e-01  1.70959465e+00 -1.16971425e+00 -1.18381211e+00]\n",
            " [ 2.24968346e+00 -1.05276654e+00  1.78583195e+00  1.44883158e+00]\n",
            " [ 1.89829664e-01 -3.62176246e-01  4.21733708e-01  3.95774101e-01]]\n",
            "Iteration 10: Loss = 116.77237151277747\n",
            "Iteration 20: Loss = 116.77237151277747\n",
            "Iteration 30: Loss = 116.77237151277747\n",
            "Iteration 40: Loss = 116.77237151277747\n",
            "Iteration 50: Loss = 116.77237151277747\n",
            "Iteration 60: Loss = 116.77237151277747\n",
            "Iteration 70: Loss = 116.77237151277747\n",
            "Iteration 80: Loss = 116.77237151277747\n",
            "Iteration 90: Loss = 116.77237151277747\n",
            "Iteration 100: Loss = 116.77237151277747\n",
            "Initial centroids  [[ 3.10997534e-01 -5.92373012e-01  5.35408562e-01  8.77547895e-04]\n",
            " [-1.73673948e-01  1.70959465e+00 -1.16971425e+00 -1.18381211e+00]\n",
            " [ 2.24968346e+00 -1.05276654e+00  1.78583195e+00  1.44883158e+00]\n",
            " [ 1.89829664e-01 -3.62176246e-01  4.21733708e-01  3.95774101e-01]\n",
            " [ 1.15917263e+00 -5.92373012e-01  5.92245988e-01  2.64141916e-01]]\n",
            "Iteration 10: Loss = 110.9128484577675\n",
            "Iteration 20: Loss = 110.9128484577675\n",
            "Iteration 30: Loss = 110.9128484577675\n",
            "Iteration 40: Loss = 110.9128484577675\n",
            "Iteration 50: Loss = 110.9128484577675\n",
            "Iteration 60: Loss = 110.9128484577675\n",
            "Iteration 70: Loss = 110.9128484577675\n",
            "Iteration 80: Loss = 110.9128484577675\n",
            "Iteration 90: Loss = 110.9128484577675\n",
            "Iteration 100: Loss = 110.9128484577675\n",
            "Initial centroids  [[ 3.10997534e-01 -5.92373012e-01  5.35408562e-01  8.77547895e-04]\n",
            " [-1.73673948e-01  1.70959465e+00 -1.16971425e+00 -1.18381211e+00]\n",
            " [ 2.24968346e+00 -1.05276654e+00  1.78583195e+00  1.44883158e+00]\n",
            " [ 1.89829664e-01 -3.62176246e-01  4.21733708e-01  3.95774101e-01]\n",
            " [ 1.15917263e+00 -5.92373012e-01  5.92245988e-01  2.64141916e-01]\n",
            " [-5.37177559e-01  7.88807586e-01 -1.28338910e+00 -1.05217993e+00]]\n",
            "Iteration 10: Loss = 100.13629476946295\n",
            "Iteration 20: Loss = 100.13629476946295\n",
            "Iteration 30: Loss = 100.13629476946295\n",
            "Iteration 40: Loss = 100.13629476946295\n",
            "Iteration 50: Loss = 100.13629476946295\n",
            "Iteration 60: Loss = 100.13629476946295\n",
            "Iteration 70: Loss = 100.13629476946295\n",
            "Iteration 80: Loss = 100.13629476946295\n",
            "Iteration 90: Loss = 100.13629476946295\n",
            "Iteration 100: Loss = 100.13629476946295\n",
            "Initial centroids  [[ 3.10997534e-01 -5.92373012e-01  5.35408562e-01  8.77547895e-04]\n",
            " [-1.73673948e-01  1.70959465e+00 -1.16971425e+00 -1.18381211e+00]\n",
            " [ 2.24968346e+00 -1.05276654e+00  1.78583195e+00  1.44883158e+00]\n",
            " [ 1.89829664e-01 -3.62176246e-01  4.21733708e-01  3.95774101e-01]\n",
            " [ 1.15917263e+00 -5.92373012e-01  5.92245988e-01  2.64141916e-01]\n",
            " [-5.37177559e-01  7.88807586e-01 -1.28338910e+00 -1.05217993e+00]\n",
            " [-2.94841818e-01 -3.62176246e-01 -8.98031345e-02  1.32509732e-01]]\n",
            "Iteration 10: Loss = 94.40254787903666\n",
            "Iteration 20: Loss = 94.40254787903666\n",
            "Iteration 30: Loss = 94.40254787903666\n",
            "Iteration 40: Loss = 94.40254787903666\n",
            "Iteration 50: Loss = 94.40254787903666\n",
            "Iteration 60: Loss = 94.40254787903666\n",
            "Iteration 70: Loss = 94.40254787903666\n",
            "Iteration 80: Loss = 94.40254787903666\n",
            "Iteration 90: Loss = 94.40254787903666\n",
            "Iteration 100: Loss = 94.40254787903666\n",
            "Initial centroids  [[ 3.10997534e-01 -5.92373012e-01  5.35408562e-01  8.77547895e-04]\n",
            " [-1.73673948e-01  1.70959465e+00 -1.16971425e+00 -1.18381211e+00]\n",
            " [ 2.24968346e+00 -1.05276654e+00  1.78583195e+00  1.44883158e+00]\n",
            " [ 1.89829664e-01 -3.62176246e-01  4.21733708e-01  3.95774101e-01]\n",
            " [ 1.15917263e+00 -5.92373012e-01  5.92245988e-01  2.64141916e-01]\n",
            " [-5.37177559e-01  7.88807586e-01 -1.28338910e+00 -1.05217993e+00]\n",
            " [-2.94841818e-01 -3.62176246e-01 -8.98031345e-02  1.32509732e-01]\n",
            " [ 1.28034050e+00  9.82172869e-02  7.62758269e-01  1.44883158e+00]]\n",
            "Iteration 10: Loss = 91.02543313689647\n",
            "Iteration 20: Loss = 91.02543313689647\n",
            "Iteration 30: Loss = 91.02543313689647\n",
            "Iteration 40: Loss = 91.02543313689647\n",
            "Iteration 50: Loss = 91.02543313689647\n",
            "Iteration 60: Loss = 91.02543313689647\n",
            "Iteration 70: Loss = 91.02543313689647\n",
            "Iteration 80: Loss = 91.02543313689647\n",
            "Iteration 90: Loss = 91.02543313689647\n",
            "Iteration 100: Loss = 91.02543313689647\n",
            "Initial centroids  [[ 3.10997534e-01 -5.92373012e-01  5.35408562e-01  8.77547895e-04]\n",
            " [-1.73673948e-01  1.70959465e+00 -1.16971425e+00 -1.18381211e+00]\n",
            " [ 2.24968346e+00 -1.05276654e+00  1.78583195e+00  1.44883158e+00]\n",
            " [ 1.89829664e-01 -3.62176246e-01  4.21733708e-01  3.95774101e-01]\n",
            " [ 1.15917263e+00 -5.92373012e-01  5.92245988e-01  2.64141916e-01]\n",
            " [-5.37177559e-01  7.88807586e-01 -1.28338910e+00 -1.05217993e+00]\n",
            " [-2.94841818e-01 -3.62176246e-01 -8.98031345e-02  1.32509732e-01]\n",
            " [ 1.28034050e+00  9.82172869e-02  7.62758269e-01  1.44883158e+00]\n",
            " [ 4.32165405e-01 -1.97355361e+00  4.21733708e-01  3.95774101e-01]]\n",
            "Iteration 10: Loss = 85.54218094623374\n",
            "Iteration 20: Loss = 85.54218094623374\n",
            "Iteration 30: Loss = 85.54218094623374\n",
            "Iteration 40: Loss = 85.54218094623374\n",
            "Iteration 50: Loss = 85.54218094623374\n",
            "Iteration 60: Loss = 85.54218094623374\n",
            "Iteration 70: Loss = 85.54218094623374\n",
            "Iteration 80: Loss = 85.54218094623374\n",
            "Iteration 90: Loss = 85.54218094623374\n",
            "Iteration 100: Loss = 85.54218094623374\n",
            "Initial centroids  [[ 3.10997534e-01 -5.92373012e-01  5.35408562e-01  8.77547895e-04]\n",
            " [-1.73673948e-01  1.70959465e+00 -1.16971425e+00 -1.18381211e+00]\n",
            " [ 2.24968346e+00 -1.05276654e+00  1.78583195e+00  1.44883158e+00]\n",
            " [ 1.89829664e-01 -3.62176246e-01  4.21733708e-01  3.95774101e-01]\n",
            " [ 1.15917263e+00 -5.92373012e-01  5.92245988e-01  2.64141916e-01]\n",
            " [-5.37177559e-01  7.88807586e-01 -1.28338910e+00 -1.05217993e+00]\n",
            " [-2.94841818e-01 -3.62176246e-01 -8.98031345e-02  1.32509732e-01]\n",
            " [ 1.28034050e+00  9.82172869e-02  7.62758269e-01  1.44883158e+00]\n",
            " [ 4.32165405e-01 -1.97355361e+00  4.21733708e-01  3.95774101e-01]\n",
            " [-5.25060772e-02 -8.22569778e-01  8.07091462e-02  8.77547895e-04]]\n",
            "Iteration 10: Loss = 83.34089001205871\n",
            "Iteration 20: Loss = 83.34089001205871\n",
            "Iteration 30: Loss = 83.34089001205871\n",
            "Iteration 40: Loss = 83.34089001205871\n",
            "Iteration 50: Loss = 83.34089001205871\n",
            "Iteration 60: Loss = 83.34089001205871\n",
            "Iteration 70: Loss = 83.34089001205871\n",
            "Iteration 80: Loss = 83.34089001205871\n",
            "Iteration 90: Loss = 83.34089001205871\n",
            "Iteration 100: Loss = 83.34089001205871\n"
          ]
        }
      ]
    },
    {
      "cell_type": "code",
      "metadata": {
        "colab": {
          "base_uri": "https://localhost:8080/",
          "height": 472
        },
        "id": "9dcf66b2",
        "outputId": "3e97764a-ddcb-451f-fd76-7a227aae2cd0"
      },
      "source": [
        "# Plot the Elbow Method graph\n",
        "import matplotlib.pyplot as plt\n",
        "\n",
        "plt.plot(k_range, inertia_values, marker='o')\n",
        "plt.xlabel('Number of clusters (k)')\n",
        "plt.ylabel('Inertia (Loss)')\n",
        "plt.title('Elbow Method')\n",
        "plt.xticks(k_range)\n",
        "plt.grid(True)\n",
        "plt.show()"
      ],
      "execution_count": 67,
      "outputs": [
        {
          "output_type": "display_data",
          "data": {
            "text/plain": [
              "<Figure size 640x480 with 1 Axes>"
            ],
            "image/png": "[encoded data removed]"
          },
          "metadata": {}
        }
      ]
    },
    {
      "cell_type": "markdown",
      "metadata": {
        "id": "a48b66ce"
      },
      "source": [
        "Look for the \"elbow\" in the plot above. The point where the decrease in inertia starts to slow down is often a good indication of the optimal number of clusters."
      ]
    },
    {
      "cell_type": "code",
      "source": [
        "print(kmeans(X, 3, 42, 20))\n",
        "print(kmeans(X, 3, 0, 20))"
      ],
      "metadata": {
        "colab": {
          "base_uri": "https://localhost:8080/"
        },
        "id": "lSr88GTAkZuk",
        "outputId": "066d978b-b74c-4390-8304-68735e6d2b55"
      },
      "execution_count": 70,
      "outputs": [
        {
          "output_type": "stream",
          "name": "stdout",
          "text": [
            "Initial centroids  [[ 3.10997534e-01 -5.92373012e-01  5.35408562e-01  8.77547895e-04]\n",
            " [-1.73673948e-01  1.70959465e+00 -1.16971425e+00 -1.18381211e+00]\n",
            " [ 2.24968346e+00 -1.05276654e+00  1.78583195e+00  1.44883158e+00]]\n",
            "Iteration 10: Loss = 129.31489299173603\n",
            "Iteration 20: Loss = 129.31489299173603\n",
            "(array([[-0.01139555, -0.87600831,  0.37707573,  0.31115341],\n",
            "       [-1.01457897,  0.85326268, -1.30498732, -1.25489349],\n",
            "       [ 1.16743407,  0.14530299,  1.00302557,  1.0300019 ]]), array([1, 1, 1, 1, 1, 1, 1, 1, 1, 1, 1, 1, 1, 1, 1, 1, 1, 1, 1, 1, 1, 1,\n",
            "       1, 1, 1, 1, 1, 1, 1, 1, 1, 1, 1, 1, 1, 1, 1, 1, 1, 1, 1, 1, 1, 1,\n",
            "       1, 1, 1, 1, 1, 1, 2, 2, 2, 0, 0, 0, 2, 0, 0, 0, 0, 0, 0, 0, 0, 2,\n",
            "       0, 0, 0, 0, 2, 0, 0, 0, 0, 2, 2, 2, 0, 0, 0, 0, 0, 0, 0, 2, 2, 0,\n",
            "       0, 0, 0, 0, 0, 0, 0, 0, 0, 0, 0, 0, 2, 0, 2, 2, 2, 2, 0, 2, 0, 2,\n",
            "       2, 0, 2, 0, 0, 2, 2, 2, 2, 0, 2, 0, 2, 0, 2, 2, 0, 0, 2, 2, 2, 2,\n",
            "       2, 0, 0, 2, 2, 2, 0, 2, 2, 2, 0, 2, 2, 2, 0, 2, 2, 0]))\n",
            "Initial centroids  [[-0.05250608 -0.59237301  0.76275827  1.58046376]\n",
            " [ 0.18982966 -1.97355361  0.13754657 -0.26238682]\n",
            " [-0.41600969  2.63038172 -1.34022653 -1.3154443 ]]\n",
            "Iteration 10: Loss = 129.31379312790378\n",
            "Iteration 20: Loss = 129.31379312790378\n",
            "(array([[ 1.03359865,  0.00613858,  0.94360463,  0.9725624 ],\n",
            "       [-0.16840578, -0.9726981 ,  0.2598706 ,  0.17543327],\n",
            "       [-1.00206653,  0.90625492, -1.30310821, -1.25634413]]), array([2, 2, 2, 2, 2, 2, 2, 2, 2, 2, 2, 2, 2, 2, 2, 2, 2, 2, 2, 2, 2, 2,\n",
            "       2, 2, 2, 2, 2, 2, 2, 2, 2, 2, 2, 2, 2, 2, 2, 2, 2, 2, 2, 1, 2, 2,\n",
            "       2, 2, 2, 2, 2, 2, 0, 0, 0, 1, 0, 1, 0, 1, 0, 1, 1, 1, 1, 1, 1, 0,\n",
            "       1, 1, 1, 1, 0, 1, 1, 1, 1, 0, 0, 0, 1, 1, 1, 1, 1, 1, 1, 0, 0, 1,\n",
            "       1, 1, 1, 1, 1, 1, 1, 1, 1, 1, 1, 1, 0, 1, 0, 0, 0, 0, 1, 0, 0, 0,\n",
            "       0, 0, 0, 1, 0, 0, 0, 0, 0, 1, 0, 1, 0, 0, 0, 0, 0, 0, 0, 0, 0, 0,\n",
            "       0, 0, 1, 0, 0, 0, 0, 0, 0, 0, 1, 0, 0, 0, 1, 0, 0, 0]))\n"
          ]
        }
      ]
    },
    {
      "cell_type": "code",
      "metadata": {
        "colab": {
          "base_uri": "https://localhost:8080/"
        },
        "id": "76e126f0",
        "outputId": "c36e5ad1-f1fc-4183-d579-c2b0b8ed79ad"
      },
      "source": [
        "from sklearn.metrics import adjusted_rand_score\n",
        "\n",
        "# Run kmeans with k=3 (using the optimal k identified by the Elbow Method)\n",
        "centroids, clusters = kmeans(X, k=3, seed=42, iter=100)\n",
        "\n",
        "# Calculate the Adjusted Rand Index\n",
        "ari = adjusted_rand_score(y, clusters)\n",
        "\n",
        "print(f\"Adjusted Rand Index for k=3: {ari}\")"
      ],
      "execution_count": 71,
      "outputs": [
        {
          "output_type": "stream",
          "name": "stdout",
          "text": [
            "Initial centroids  [[ 3.10997534e-01 -5.92373012e-01  5.35408562e-01  8.77547895e-04]\n",
            " [-1.73673948e-01  1.70959465e+00 -1.16971425e+00 -1.18381211e+00]\n",
            " [ 2.24968346e+00 -1.05276654e+00  1.78583195e+00  1.44883158e+00]]\n",
            "Iteration 10: Loss = 129.31489299173603\n",
            "Iteration 20: Loss = 129.31489299173603\n",
            "Iteration 30: Loss = 129.31489299173603\n",
            "Iteration 40: Loss = 129.31489299173603\n",
            "Iteration 50: Loss = 129.31489299173603\n",
            "Iteration 60: Loss = 129.31489299173603\n",
            "Iteration 70: Loss = 129.31489299173603\n",
            "Iteration 80: Loss = 129.31489299173603\n",
            "Iteration 90: Loss = 129.31489299173603\n",
            "Iteration 100: Loss = 129.31489299173603\n",
            "Adjusted Rand Index for k=3: 0.5923326221845838\n"
          ]
        }
      ]
    },
    {
      "cell_type": "markdown",
      "metadata": {
        "id": "285df690"
      },
      "source": [
        "# Task\n",
        "Enhance the implementation of kmeans so it's more abstracted and efficient."
      ]
    },
    {
      "cell_type": "markdown",
      "metadata": {
        "id": "243e6684"
      },
      "source": [
        "## Create a kmeans class\n",
        "\n",
        "### Subtask:\n",
        "Define a Python class to encapsulate the K-means algorithm. This class will hold the number of clusters (`k`), the centroids, and the methods for fitting the data and making predictions.\n"
      ]
    },
    {
      "cell_type": "markdown",
      "metadata": {
        "id": "8a7d4dc6"
      },
      "source": [
        "**Reasoning**:\n",
        "Define the KMeans class with the specified methods to encapsulate the K-means algorithm.\n",
        "\n"
      ]
    },
    {
      "cell_type": "code",
      "metadata": {
        "id": "dd39e5b1"
      },
      "source": [
        "class KMeans:\n",
        "  def __init__(self, k):\n",
        "    self.k = k\n",
        "    self.centroids = None\n",
        "\n",
        "  def fit(self, X, iter, seed):\n",
        "    pass\n",
        "\n",
        "  def predict(self, X):\n",
        "    pass"
      ],
      "execution_count": 72,
      "outputs": []
    },
    {
      "cell_type": "markdown",
      "metadata": {
        "id": "91e60167"
      },
      "source": [
        "## Implement the `  init  ` method\n",
        "\n",
        "### Subtask:\n",
        "Initialize the class with the number of clusters (`k`) and other potential parameters like the number of iterations and random seed.\n"
      ]
    },
    {
      "cell_type": "markdown",
      "metadata": {
        "id": "e1551ec1"
      },
      "source": [
        "**Reasoning**:\n",
        "Update the `__init__` method to accept `iter` and `seed` as parameters and store them as attributes.\n",
        "\n"
      ]
    },
    {
      "cell_type": "code",
      "metadata": {
        "id": "1a6b8ea8"
      },
      "source": [
        "class KMeans:\n",
        "  def __init__(self, k, iter=100, seed=42):\n",
        "    self.k = k\n",
        "    self.centroids = None\n",
        "    self.iter = iter\n",
        "    self.seed = seed\n",
        "\n",
        "  def fit(self, X):\n",
        "    pass\n",
        "\n",
        "  def predict(self, X):\n",
        "    pass"
      ],
      "execution_count": 73,
      "outputs": []
    },
    {
      "cell_type": "markdown",
      "metadata": {
        "id": "09bb9899"
      },
      "source": [
        "## Implement the `fit` method\n",
        "\n",
        "### Subtask:\n",
        "Implement the `fit` method. This method will take the data `X` as input and perform the K-means clustering algorithm (initialization, assignment, and centroid updates) until convergence or the maximum number of iterations is reached. It will store the final centroids and cluster assignments.\n"
      ]
    },
    {
      "cell_type": "markdown",
      "metadata": {
        "id": "c73ce5ce"
      },
      "source": [
        "**Reasoning**:\n",
        "Implement the `fit` method according to the instructions, including centroid initialization, iterative assignment, and centroid recalculation.\n",
        "\n"
      ]
    },
    {
      "cell_type": "code",
      "metadata": {
        "id": "c7ffb224"
      },
      "source": [
        "class KMeans:\n",
        "  def __init__(self, k, iter=100, seed=42):\n",
        "    self.k = k\n",
        "    self.centroids = None\n",
        "    self.iter = iter\n",
        "    self.seed = seed\n",
        "    self.labels_ = None\n",
        "\n",
        "  def fit(self, X):\n",
        "    # 1. Initialize centroids\n",
        "    self.centroids = pick_random_points(X, self.k, self.seed)\n",
        "\n",
        "    # 2. Start the iteration loop\n",
        "    for _ in range(self.iter):\n",
        "      # 3. Assign points to clusters\n",
        "      clusters = assign_to_cluster(X, self.centroids)\n",
        "\n",
        "      # 4. Recalculate centroids\n",
        "      self.centroids = calculate_centroids(X, clusters, self.k)\n",
        "\n",
        "    # 5. Store final cluster assignments\n",
        "    self.labels_ = clusters\n",
        "\n",
        "  def predict(self, X):\n",
        "    pass"
      ],
      "execution_count": 74,
      "outputs": []
    },
    {
      "cell_type": "markdown",
      "metadata": {
        "id": "42b16338"
      },
      "source": [
        "## Implement the `predict` method\n",
        "\n",
        "### Subtask:\n",
        "Implement the `predict` method. This method will take new data points as input and assign them to the nearest cluster based on the learned centroids.\n"
      ]
    },
    {
      "cell_type": "markdown",
      "metadata": {
        "id": "d8bb9961"
      },
      "source": [
        "**Reasoning**:\n",
        "Implement the `predict` method within the `KMeans` class to assign new data points to the nearest cluster based on the learned centroids.\n",
        "\n"
      ]
    },
    {
      "cell_type": "code",
      "metadata": {
        "id": "09bcdb13"
      },
      "source": [
        "class KMeans:\n",
        "  def __init__(self, k, iter=100, seed=42):\n",
        "    self.k = k\n",
        "    self.centroids = None\n",
        "    self.iter = iter\n",
        "    self.seed = seed\n",
        "    self.labels_ = None\n",
        "\n",
        "  def fit(self, X):\n",
        "    # 1. Initialize centroids\n",
        "    self.centroids = pick_random_points(X, self.k, self.seed)\n",
        "\n",
        "    # 2. Start the iteration loop\n",
        "    for _ in range(self.iter):\n",
        "      # 3. Assign points to clusters\n",
        "      clusters = assign_to_cluster(X, self.centroids)\n",
        "\n",
        "      # 4. Recalculate centroids\n",
        "      self.centroids = calculate_centroids(X, clusters, self.k)\n",
        "\n",
        "    # 5. Store final cluster assignments\n",
        "    self.labels_ = clusters\n",
        "\n",
        "  def predict(self, X):\n",
        "    # Assign new data points to the nearest cluster\n",
        "    return assign_to_cluster(X, self.centroids)"
      ],
      "execution_count": 75,
      "outputs": []
    },
    {
      "cell_type": "markdown",
      "metadata": {
        "id": "fd6a034c"
      },
      "source": [
        "## Refactor existing functions into class methods\n",
        "\n",
        "### Subtask:\n",
        "Refactor existing functions into class methods. Move the logic from the `pick_random_points`, `assign_to_cluster`, `calculate_centroids`, and `calculate_loss` functions into methods within the `KMeans` class.\n"
      ]
    },
    {
      "cell_type": "markdown",
      "metadata": {
        "id": "7dff9d1d"
      },
      "source": [
        "**Reasoning**:\n",
        "Refactor the existing functions into class methods within the KMeans class and update the fit method to use these new methods.\n",
        "\n"
      ]
    },
    {
      "cell_type": "code",
      "metadata": {
        "id": "3ad959c1"
      },
      "source": [
        "class KMeans:\n",
        "  def __init__(self, k, iter=100, seed=42):\n",
        "    self.k = k\n",
        "    self.centroids = None\n",
        "    self.iter = iter\n",
        "    self.seed = seed\n",
        "    self.labels_ = None\n",
        "\n",
        "  def _pick_random_points(self, X):\n",
        "    np.random.seed(self.seed)\n",
        "    random_indices = np.random.choice(X.shape[0], self.k, replace=False)\n",
        "    self.centroids = X[random_indices]\n",
        "\n",
        "  def _assign_to_cluster(self, X):\n",
        "    clusters = np.zeros(X.shape[0], dtype=int)\n",
        "    for i, x in enumerate(X):\n",
        "      distances = [euclidean_distance(x, centroid) for centroid in self.centroids]\n",
        "      clusters[i] = np.argmin(distances)\n",
        "    return clusters\n",
        "\n",
        "  def _calculate_centroids(self, X, clusters):\n",
        "    new_centroids = np.zeros((self.k, X.shape[1]))\n",
        "    for i in range(self.k):\n",
        "      points_in_cluster = X[clusters == i]\n",
        "      if len(points_in_cluster) > 0: # Handle empty clusters\n",
        "          new_centroids[i] = np.mean(points_in_cluster, axis=0)\n",
        "    self.centroids = new_centroids # Update self.centroids directly\n",
        "\n",
        "  def _calculate_loss(self, X, clusters):\n",
        "    loss = 0\n",
        "    for i, x in enumerate(X):\n",
        "      loss += euclidean_distance(x, self.centroids[clusters[i]])\n",
        "    return loss\n",
        "\n",
        "  def fit(self, X):\n",
        "    # 1. Initialize centroids\n",
        "    self._pick_random_points(X)\n",
        "\n",
        "    # 2. Start the iteration loop\n",
        "    for _ in range(self.iter):\n",
        "      # 3. Assign points to clusters\n",
        "      clusters = self._assign_to_cluster(X)\n",
        "\n",
        "      # 4. Recalculate centroids\n",
        "      self._calculate_centroids(X, clusters)\n",
        "\n",
        "    # 5. Store final cluster assignments\n",
        "    self.labels_ = clusters\n",
        "\n",
        "\n",
        "  def predict(self, X):\n",
        "    # Assign new data points to the nearest cluster\n",
        "    return self._assign_to_cluster(X)\n",
        "\n",
        "# Remove redundant standalone functions\n",
        "del pick_random_points\n",
        "del assign_to_cluster\n",
        "del calculate_centroids\n",
        "del calculate_loss"
      ],
      "execution_count": 76,
      "outputs": []
    },
    {
      "cell_type": "markdown",
      "metadata": {
        "id": "6f2c43be"
      },
      "source": [
        "## Update calculations for efficiency\n",
        "\n",
        "### Subtask:\n",
        "Update calculations for efficiency. Explore using NumPy's broadcasting capabilities or other vectorized operations to replace explicit loops in the `_assign_to_cluster` and `_calculate_centroids` methods for potentially improved efficiency.\n"
      ]
    },
    {
      "cell_type": "markdown",
      "metadata": {
        "id": "db9a772c"
      },
      "source": [
        "**Reasoning**:\n",
        "Modify the `_assign_to_cluster` method to use vectorized operations to calculate distances and find the nearest centroid for each data point.\n",
        "\n"
      ]
    },
    {
      "cell_type": "code",
      "metadata": {
        "id": "623c415e"
      },
      "source": [
        "class KMeans:\n",
        "    def __init__(self, k, iter=100, seed=42):\n",
        "        self.k = k\n",
        "        self.centroids = None\n",
        "        self.iter = iter\n",
        "        self.seed = seed\n",
        "        self.labels_ = None\n",
        "\n",
        "    def _pick_random_points(self, X):\n",
        "        np.random.seed(self.seed)\n",
        "        random_indices = np.random.choice(X.shape[0], self.k, replace=False)\n",
        "        self.centroids = X[random_indices]\n",
        "\n",
        "    def _assign_to_cluster(self, X):\n",
        "        # Calculate squared Euclidean distance using broadcasting\n",
        "        distances = np.sum((X[:, np.newaxis, :] - self.centroids)**2, axis=2)\n",
        "        # Find the index of the minimum distance for each data point\n",
        "        clusters = np.argmin(distances, axis=1)\n",
        "        return clusters\n",
        "\n",
        "    def _calculate_centroids(self, X, clusters):\n",
        "        new_centroids = np.zeros((self.k, X.shape[1]))\n",
        "        for i in range(self.k):\n",
        "            points_in_cluster = X[clusters == i]\n",
        "            if len(points_in_cluster) > 0:  # Handle empty clusters\n",
        "                new_centroids[i] = np.mean(points_in_cluster, axis=0)\n",
        "        self.centroids = new_centroids  # Update self.centroids directly\n",
        "\n",
        "    def _calculate_loss(self, X, clusters):\n",
        "        loss = 0\n",
        "        for i, x in enumerate(X):\n",
        "            loss += euclidean_distance(x, self.centroids[clusters[i]])\n",
        "        return loss\n",
        "\n",
        "    def fit(self, X):\n",
        "        # 1. Initialize centroids\n",
        "        self._pick_random_points(X)\n",
        "\n",
        "        # 2. Start the iteration loop\n",
        "        for _ in range(self.iter):\n",
        "            # 3. Assign points to clusters\n",
        "            clusters = self._assign_to_cluster(X)\n",
        "\n",
        "            # 4. Recalculate centroids\n",
        "            self._calculate_centroids(X, clusters)\n",
        "\n",
        "        # 5. Store final cluster assignments\n",
        "        self.labels_ = clusters\n",
        "\n",
        "    def predict(self, X):\n",
        "        # Assign new data points to the nearest cluster\n",
        "        return self._assign_to_cluster(X)\n"
      ],
      "execution_count": 77,
      "outputs": []
    },
    {
      "cell_type": "markdown",
      "metadata": {
        "id": "daa71ee7"
      },
      "source": [
        "**Reasoning**:\n",
        "Modify the `_calculate_centroids` method to use vectorized operations to calculate the mean of points within each cluster.\n",
        "\n"
      ]
    },
    {
      "cell_type": "code",
      "metadata": {
        "id": "45571744"
      },
      "source": [
        "class KMeans:\n",
        "    def __init__(self, k, iter=100, seed=42):\n",
        "        self.k = k\n",
        "        self.centroids = None\n",
        "        self.iter = iter\n",
        "        self.seed = seed\n",
        "        self.labels_ = None\n",
        "\n",
        "    def _pick_random_points(self, X):\n",
        "        np.random.seed(self.seed)\n",
        "        random_indices = np.random.choice(X.shape[0], self.k, replace=False)\n",
        "        self.centroids = X[random_indices]\n",
        "\n",
        "    def _assign_to_cluster(self, X):\n",
        "        # Calculate squared Euclidean distance using broadcasting\n",
        "        distances = np.sum((X[:, np.newaxis, :] - self.centroids)**2, axis=2)\n",
        "        # Find the index of the minimum distance for each data point\n",
        "        clusters = np.argmin(distances, axis=1)\n",
        "        return clusters\n",
        "\n",
        "    def _calculate_centroids(self, X, clusters):\n",
        "        new_centroids = np.zeros((self.k, X.shape[1]))\n",
        "        counts = np.bincount(clusters, minlength=self.k)\n",
        "        for i in range(self.k):\n",
        "            if counts[i] > 0:\n",
        "                new_centroids[i] = np.sum(X[clusters == i], axis=0) / counts[i]\n",
        "            else:\n",
        "                # Handle empty cluster by keeping the old centroid or setting to zero\n",
        "                new_centroids[i] = self.centroids[i] if self.centroids is not None else np.zeros(X.shape[1])\n",
        "\n",
        "        self.centroids = new_centroids\n",
        "\n",
        "    def _calculate_loss(self, X, clusters):\n",
        "        loss = 0\n",
        "        for i, x in enumerate(X):\n",
        "            loss += euclidean_distance(x, self.centroids[clusters[i]])\n",
        "        return loss\n",
        "\n",
        "\n",
        "    def fit(self, X):\n",
        "        # 1. Initialize centroids\n",
        "        self._pick_random_points(X)\n",
        "\n",
        "        # 2. Start the iteration loop\n",
        "        for _ in range(self.iter):\n",
        "            # 3. Assign points to clusters\n",
        "            clusters = self._assign_to_cluster(X)\n",
        "\n",
        "            # 4. Recalculate centroids\n",
        "            self._calculate_centroids(X, clusters)\n",
        "\n",
        "        # 5. Store final cluster assignments\n",
        "        self.labels_ = clusters\n",
        "\n",
        "\n",
        "    def predict(self, X):\n",
        "        # Assign new data points to the nearest cluster\n",
        "        return self._assign_to_cluster(X)"
      ],
      "execution_count": 78,
      "outputs": []
    },
    {
      "cell_type": "markdown",
      "metadata": {
        "id": "dc4f8472"
      },
      "source": [
        "## Add convergence criteria\n",
        "\n",
        "### Subtask:\n",
        "Add convergence criteria. Modify the `fit` method to include a convergence criterion (e.g., stop when the change in centroids is below a certain threshold) in addition to the maximum number of iterations.\n"
      ]
    },
    {
      "cell_type": "markdown",
      "metadata": {
        "id": "b7a830a4"
      },
      "source": [
        "**Reasoning**:\n",
        "Implement the convergence criteria in the `fit` method by tracking centroid changes and stopping when the change is below a threshold or the maximum iterations are reached.\n",
        "\n"
      ]
    },
    {
      "cell_type": "code",
      "metadata": {
        "id": "ca20d749"
      },
      "source": [
        "class KMeans:\n",
        "    def __init__(self, k, iter=100, seed=42, tol=1e-4):\n",
        "        self.k = k\n",
        "        self.centroids = None\n",
        "        self.iter = iter\n",
        "        self.seed = seed\n",
        "        self.labels_ = None\n",
        "        self.tol = tol\n",
        "\n",
        "    def _pick_random_points(self, X):\n",
        "        np.random.seed(self.seed)\n",
        "        random_indices = np.random.choice(X.shape[0], self.k, replace=False)\n",
        "        self.centroids = X[random_indices]\n",
        "\n",
        "    def _assign_to_cluster(self, X):\n",
        "        # Calculate squared Euclidean distance using broadcasting\n",
        "        distances = np.sum((X[:, np.newaxis, :] - self.centroids)**2, axis=2)\n",
        "        # Find the index of the minimum distance for each data point\n",
        "        clusters = np.argmin(distances, axis=1)\n",
        "        return clusters\n",
        "\n",
        "    def _calculate_centroids(self, X, clusters):\n",
        "        new_centroids = np.zeros((self.k, X.shape[1]))\n",
        "        counts = np.bincount(clusters, minlength=self.k)\n",
        "        for i in range(self.k):\n",
        "            if counts[i] > 0:\n",
        "                new_centroids[i] = np.sum(X[clusters == i], axis=0) / counts[i]\n",
        "            else:\n",
        "                # Handle empty cluster by keeping the old centroid or setting to zero\n",
        "                new_centroids[i] = self.centroids[i] if self.centroids is not None else np.zeros(X.shape[1])\n",
        "\n",
        "        return new_centroids # Return new_centroids instead of updating directly\n",
        "\n",
        "    def _calculate_loss(self, X, clusters):\n",
        "        loss = 0\n",
        "        for i, x in enumerate(X):\n",
        "            loss += euclidean_distance(x, self.centroids[clusters[i]])\n",
        "        return loss\n",
        "\n",
        "    def fit(self, X):\n",
        "        # 1. Initialize centroids\n",
        "        self._pick_random_points(X)\n",
        "\n",
        "        # 2. Start the iteration loop\n",
        "        for i in range(self.iter):\n",
        "            # Store previous centroids for convergence check\n",
        "            prev_centroids = np.copy(self.centroids)\n",
        "\n",
        "            # 3. Assign points to clusters\n",
        "            clusters = self._assign_to_cluster(X)\n",
        "\n",
        "            # 4. Recalculate centroids\n",
        "            self.centroids = self._calculate_centroids(X, clusters)\n",
        "\n",
        "            # 5. Check for convergence\n",
        "            centroid_change = np.sum((self.centroids - prev_centroids)**2)\n",
        "            if centroid_change < self.tol:\n",
        "                print(f\"Converged after {i+1} iterations.\")\n",
        "                break\n",
        "\n",
        "        # 6. Store final cluster assignments\n",
        "        self.labels_ = clusters\n",
        "\n",
        "\n",
        "    def predict(self, X):\n",
        "        # Assign new data points to the nearest cluster\n",
        "        return self._assign_to_cluster(X)"
      ],
      "execution_count": 79,
      "outputs": []
    },
    {
      "cell_type": "markdown",
      "metadata": {
        "id": "217f4b7c"
      },
      "source": [
        "## Test the kmeans class\n",
        "\n",
        "### Subtask:\n",
        "Test the kmeans class. Instantiate the `KMeans` class and test its `fit` and `predict` methods using the Iris dataset. Compare the results with the previous function-based implementation if necessary.\n"
      ]
    },
    {
      "cell_type": "markdown",
      "metadata": {
        "id": "61e5e1a3"
      },
      "source": [
        "**Reasoning**:\n",
        "Instantiate the KMeans class and test the fit and predict methods.\n",
        "\n"
      ]
    },
    {
      "cell_type": "code",
      "metadata": {
        "colab": {
          "base_uri": "https://localhost:8080/"
        },
        "id": "94bbfc5c",
        "outputId": "e1e292cc-15ff-411e-97e0-3ee4498d889e"
      },
      "source": [
        "# 1. Instantiate the KMeans class\n",
        "kmeans_model = KMeans(k=3, seed=42, iter=100, tol=1e-4)\n",
        "\n",
        "# 2. Call the fit method\n",
        "kmeans_model.fit(X)\n",
        "\n",
        "# 3. Print the resulting cluster labels from fit\n",
        "print(\"Cluster labels after fitting:\")\n",
        "print(kmeans_model.labels_)\n",
        "\n",
        "# 5. Call the predict method and print the output\n",
        "predicted_clusters = kmeans_model.predict(X)\n",
        "print(\"\\nCluster labels from predict:\")\n",
        "print(predicted_clusters)\n",
        "\n",
        "# 4. Optionally, compare the results with the previous function-based implementation\n",
        "# The output of the previous kmeans(X, 3, 42, 100) call is available in the notebook history.\n",
        "# We can visually compare the printed labels or use a comparison function if needed.\n",
        "# For this task, visual inspection of the print outputs is sufficient."
      ],
      "execution_count": 80,
      "outputs": [
        {
          "output_type": "stream",
          "name": "stdout",
          "text": [
            "Converged after 7 iterations.\n",
            "Cluster labels after fitting:\n",
            "[1 1 1 1 1 1 1 1 1 1 1 1 1 1 1 1 1 1 1 1 1 1 1 1 1 1 1 1 1 1 1 1 1 1 1 1 1\n",
            " 1 1 1 1 1 1 1 1 1 1 1 1 1 2 2 2 0 0 0 2 0 0 0 0 0 0 0 0 2 0 0 0 0 2 0 0 0\n",
            " 0 2 2 2 0 0 0 0 0 0 0 2 2 0 0 0 0 0 0 0 0 0 0 0 0 0 2 0 2 2 2 2 0 2 0 2 2\n",
            " 0 2 0 0 2 2 2 2 0 2 0 2 0 2 2 0 0 2 2 2 2 2 0 0 2 2 2 0 2 2 2 0 2 2 2 0 2\n",
            " 2 0]\n",
            "\n",
            "Cluster labels from predict:\n",
            "[1 1 1 1 1 1 1 1 1 1 1 1 1 1 1 1 1 1 1 1 1 1 1 1 1 1 1 1 1 1 1 1 1 1 1 1 1\n",
            " 1 1 1 1 1 1 1 1 1 1 1 1 1 2 2 2 0 0 0 2 0 0 0 0 0 0 0 0 2 0 0 0 0 2 0 0 0\n",
            " 0 2 2 2 0 0 0 0 0 0 0 2 2 0 0 0 0 0 0 0 0 0 0 0 0 0 2 0 2 2 2 2 0 2 0 2 2\n",
            " 0 2 0 0 2 2 2 2 0 2 0 2 0 2 2 0 0 2 2 2 2 2 0 0 2 2 2 0 2 2 2 0 2 2 2 0 2\n",
            " 2 0]\n"
          ]
        }
      ]
    },
    {
      "cell_type": "markdown",
      "metadata": {
        "id": "ac8574bb"
      },
      "source": [
        "## Summary:\n",
        "\n",
        "### Data Analysis Key Findings\n",
        "\n",
        "*   A Python class named `KMeans` was successfully defined, encapsulating the clustering logic.\n",
        "*   The `__init__` method was implemented to initialize the number of clusters (`k`), the number of iterations (`iter`), and a random seed (`seed`).\n",
        "*   The `fit` method was implemented to perform the K-means algorithm iterations, including centroid initialization, point assignment to clusters, and centroid recalculation.\n",
        "*   The `predict` method was implemented to assign new data points to the nearest cluster based on the learned centroids.\n",
        "*   Existing standalone functions for picking random points, assigning to clusters, calculating centroids, and calculating loss were successfully refactored into class methods.\n",
        "*   The `_assign_to_cluster` method was made more efficient by using NumPy broadcasting to calculate distances, replacing explicit loops.\n",
        "*   The `_calculate_centroids` method was optimized using `np.bincount` and vectorized summation to efficiently calculate new centroids.\n",
        "*   A convergence criterion based on the change in centroids was added to the `fit` method, allowing the algorithm to stop early if the centroids stabilize.\n",
        "*   Testing with the Iris dataset showed that the `KMeans` class successfully converged after 7 iterations and that the `fit` and `predict` methods produced identical cluster assignments for the training data.\n",
        "\n",
        "### Insights or Next Steps\n",
        "\n",
        "*   The refactored `KMeans` class provides a more organized and reusable structure for K-means clustering.\n",
        "*   The implemented optimizations using NumPy's vectorized operations are expected to significantly improve performance, especially for larger datasets. Future work could involve adding more advanced features like different initialization methods (e.g., K-means++).\n"
      ]
    },
    {
      "cell_type": "code",
      "metadata": {
        "colab": {
          "base_uri": "https://localhost:8080/",
          "height": 243
        },
        "id": "ae8c3366",
        "outputId": "a23d122b-4a05-4e41-d410-cd242b06897d"
      },
      "source": [
        "from sklearn.cluster import KMeans\n",
        "\n",
        "# Instantiate the KMeans model with the desired number of clusters (e.g., k=3)\n",
        "# You can also specify other parameters like init, n_init, max_iter, random_state, etc.\n",
        "sklearn_kmeans = KMeans(n_clusters=3, random_state=42, n_init=10) # n_init specifies how many times to run with different centroids\n",
        "\n",
        "# Fit the model to the scaled data\n",
        "sklearn_kmeans.fit(X)\n",
        "\n",
        "# Get the cluster labels\n",
        "sklearn_labels = sklearn_kmeans.labels_\n",
        "\n",
        "# Get the cluster centroids\n",
        "sklearn_centroids = sklearn_kmeans.cluster_centers_\n",
        "\n",
        "# Get the inertia (within-cluster sum of squares)\n",
        "sklearn_inertia = sklearn_kmeans.inertia_\n",
        "\n",
        "print(\"Cluster labels from scikit-learn KMeans:\")\n",
        "print(sklearn_labels)\n",
        "print(\"\\nCluster centroids from scikit-learn KMeans:\")\n",
        "display(sklearn_centroids)\n",
        "print(\"\\nInertia from scikit-learn KMeans:\", sklearn_inertia)"
      ],
      "execution_count": 81,
      "outputs": [
        {
          "output_type": "stream",
          "name": "stdout",
          "text": [
            "Cluster labels from scikit-learn KMeans:\n",
            "[1 1 1 1 1 1 1 1 1 1 1 1 1 1 1 1 1 1 1 1 1 1 1 1 1 1 1 1 1 1 1 1 1 1 1 1 1\n",
            " 1 1 1 1 1 1 1 1 1 1 1 1 1 2 2 2 0 0 0 2 0 0 0 0 0 0 0 0 2 0 0 0 0 2 0 0 0\n",
            " 0 2 2 2 0 0 0 0 0 0 0 2 2 0 0 0 0 0 0 0 0 0 0 0 0 0 2 0 2 2 2 2 0 2 2 2 2\n",
            " 2 2 0 0 2 2 2 2 0 2 0 2 0 2 2 0 2 2 2 2 2 2 0 0 2 2 2 0 2 2 2 0 2 2 2 0 2\n",
            " 2 0]\n",
            "\n",
            "Cluster centroids from scikit-learn KMeans:\n"
          ]
        },
        {
          "output_type": "display_data",
          "data": {
            "text/plain": [
              "array([[-0.05021989, -0.88337647,  0.34773781,  0.2815273 ],\n",
              "       [-1.01457897,  0.85326268, -1.30498732, -1.25489349],\n",
              "       [ 1.13597027,  0.08842168,  0.99615451,  1.01752612]])"
            ]
          },
          "metadata": {}
        },
        {
          "output_type": "stream",
          "name": "stdout",
          "text": [
            "\n",
            "Inertia from scikit-learn KMeans: 139.82049635974974\n"
          ]
        }
      ]
    }
  ]
}