{
  "nbformat": 4,
  "nbformat_minor": 0,
  "metadata": {
    "colab": {
      "provenance": [],
      "authorship_tag": "ABX9TyOEK4C4cPE3I9sh6OGsuEjB",
      "include_colab_link": true
    },
    "kernelspec": {
      "name": "python3",
      "display_name": "Python 3"
    },
    "language_info": {
      "name": "python"
    }
  },
  "cells": [
    {
      "cell_type": "markdown",
      "metadata": {
        "id": "view-in-github",
        "colab_type": "text"
      },
      "source": [
        "<a href=\"https://colab.research.google.com/github/MMaggieZhou/ModelImplementations/blob/main/Autograd.ipynb\" target=\"_parent\"><img src=\"https://colab.research.google.com/assets/colab-badge.svg\" alt=\"Open In Colab\"/></a>"
      ]
    },
    {
      "cell_type": "markdown",
      "source": [
        "Auto Back-Propagation"
      ],
      "metadata": {
        "id": "NlVAzKN1Ggdv"
      }
    },
    {
      "cell_type": "code",
      "source": [
        "import numpy as np"
      ],
      "metadata": {
        "id": "2fOocBccJPhg"
      },
      "execution_count": null,
      "outputs": []
    },
    {
      "cell_type": "code",
      "source": [
        "class Layer:\n",
        "    def __init__(self, input_dimension, output_dimension):\n",
        "        self.input = None\n",
        "        self.weights = np.random.randn(input_dimension,output_dimension)\n",
        "        self.bias = np.random.randn(1,output_dimension)\n",
        "\n",
        "    def forward(self, input):\n",
        "        self.input = input\n",
        "        return self.__sigmoid(np.dot(self.input, self.weights) + self.bias)\n",
        "\n",
        "\n",
        "    def __sigmoid(self, x):\n",
        "        return 1 / (1 + np.exp(-x))\n",
        "\n",
        "    def compute_gradient(self, output_gradient):0\n",
        "        # TODO\n",
        "        raise NotImplementedError"
      ],
      "metadata": {
        "id": "SAg2dWRNG_Z9"
      },
      "execution_count": null,
      "outputs": []
    },
    {
      "cell_type": "code",
      "source": [
        "class MLP:\n",
        "  def __init__(self, input_dimension, hidden_layers):\n",
        "    hidden_layers.append(1)\n",
        "    self.layers = []\n",
        "    for i in range(len(hidden_layers)):\n",
        "      if i == 0:\n",
        "        self.layers.append(Layer(input_dimension, hidden_layers[i]))\n",
        "      else:\n",
        "        self.layers.append(Layer(hidden_layers[i-1], hidden_layers[i]))\n",
        "\n",
        "  def forward(self, input):\n",
        "    output = input\n",
        "    for layer in self.layers:\n",
        "      output = layer.forward(output)\n",
        "    return output\n",
        "\n",
        "  def predict(self, input):\n",
        "    output = self.forward(input)\n",
        "    return np.round(output - 0.5)\n",
        "\n",
        "  def compute_gradient(self, output_gradient):\n",
        "        raise NotImplementedError"
      ],
      "metadata": {
        "id": "oLMhshEWINFB"
      },
      "execution_count": null,
      "outputs": []
    },
    {
      "cell_type": "code",
      "source": [
        "\n",
        "def loss(y_pred, y_true):\n",
        "  return -1 * np.mean(np.multiply(y_true, np.log(y_pred)) + np.multiply((1 - y_true), np.log(1 - y_pred)))"
      ],
      "metadata": {
        "id": "EFJHLX_EJpTo"
      },
      "execution_count": null,
      "outputs": []
    },
    {
      "cell_type": "code",
      "source": [
        "mlp = MLP(2, [2])\n",
        "X = np.array([[0, 0], [0, 1]])\n",
        "y_true = np.array([0, 1])\n",
        "y_pred = mlp.forward(X)\n",
        "print(y_pred)\n",
        "print(loss(y_pred, y_true))\n"
      ],
      "metadata": {
        "colab": {
          "base_uri": "https://localhost:8080/"
        },
        "id": "cjfcpNbgIrcR",
        "outputId": "a1140399-79a3-4f1a-c112-e52a9444fb42"
      },
      "execution_count": null,
      "outputs": [
        {
          "output_type": "stream",
          "name": "stdout",
          "text": [
            "[[0.76756311]\n",
            " [0.81917874]]\n",
            "0.908342588324677\n"
          ]
        }
      ]
    }
  ]
}